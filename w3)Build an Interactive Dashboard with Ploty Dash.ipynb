{
    "cells": [
        {
            "cell_type": "code",
            "execution_count": 9,
            "metadata": {},
            "outputs": [
                {
                    "name": "stdout",
                    "output_type": "stream",
                    "text": "Requirement already satisfied: pandas in /opt/conda/envs/Python-3.8-main/lib/python3.8/site-packages (1.2.4)\nRequirement already satisfied: dash in /opt/conda/envs/Python-3.8-main/lib/python3.8/site-packages (2.0.0)\nRequirement already satisfied: python-dateutil>=2.7.3 in /opt/conda/envs/Python-3.8-main/lib/python3.8/site-packages (from pandas) (2.8.1)\nRequirement already satisfied: pytz>=2017.3 in /opt/conda/envs/Python-3.8-main/lib/python3.8/site-packages (from pandas) (2021.1)\nRequirement already satisfied: numpy>=1.16.5 in /opt/conda/envs/Python-3.8-main/lib/python3.8/site-packages (from pandas) (1.19.2)\nRequirement already satisfied: six>=1.5 in /opt/conda/envs/Python-3.8-main/lib/python3.8/site-packages (from python-dateutil>=2.7.3->pandas) (1.15.0)\nRequirement already satisfied: plotly>=5.0.0 in /opt/conda/envs/Python-3.8-main/lib/python3.8/site-packages (from dash) (5.3.1)\nRequirement already satisfied: dash-html-components==2.0.0 in /opt/conda/envs/Python-3.8-main/lib/python3.8/site-packages (from dash) (2.0.0)\nRequirement already satisfied: dash-core-components==2.0.0 in /opt/conda/envs/Python-3.8-main/lib/python3.8/site-packages (from dash) (2.0.0)\nRequirement already satisfied: flask-compress in /opt/conda/envs/Python-3.8-main/lib/python3.8/site-packages (from dash) (1.10.1)\nRequirement already satisfied: Flask>=1.0.4 in /opt/conda/envs/Python-3.8-main/lib/python3.8/site-packages (from dash) (2.0.2)\nRequirement already satisfied: dash-table==5.0.0 in /opt/conda/envs/Python-3.8-main/lib/python3.8/site-packages (from dash) (5.0.0)\nRequirement already satisfied: click>=7.1.2 in /opt/conda/envs/Python-3.8-main/lib/python3.8/site-packages (from Flask>=1.0.4->dash) (7.1.2)\nRequirement already satisfied: itsdangerous>=2.0 in /opt/conda/envs/Python-3.8-main/lib/python3.8/site-packages (from Flask>=1.0.4->dash) (2.0.1)\nRequirement already satisfied: Jinja2>=3.0 in /opt/conda/envs/Python-3.8-main/lib/python3.8/site-packages (from Flask>=1.0.4->dash) (3.0.0)\nRequirement already satisfied: Werkzeug>=2.0 in /opt/conda/envs/Python-3.8-main/lib/python3.8/site-packages (from Flask>=1.0.4->dash) (2.0.2)\nRequirement already satisfied: MarkupSafe>=2.0.0rc2 in /opt/conda/envs/Python-3.8-main/lib/python3.8/site-packages (from Jinja2>=3.0->Flask>=1.0.4->dash) (2.0.1)\nRequirement already satisfied: tenacity>=6.2.0 in /opt/conda/envs/Python-3.8-main/lib/python3.8/site-packages (from plotly>=5.0.0->dash) (8.0.1)\nRequirement already satisfied: brotli in /opt/conda/envs/Python-3.8-main/lib/python3.8/site-packages (from flask-compress->dash) (1.0.9)\n--2021-11-03 17:17:36--  https://cf-courses-data.s3.us.cloud-object-storage.appdomain.cloud/IBM-DS0321EN-SkillsNetwork/datasets/spacex_launch_dash.csv\nResolving cf-courses-data.s3.us.cloud-object-storage.appdomain.cloud (cf-courses-data.s3.us.cloud-object-storage.appdomain.cloud)... 169.45.118.108\nConnecting to cf-courses-data.s3.us.cloud-object-storage.appdomain.cloud (cf-courses-data.s3.us.cloud-object-storage.appdomain.cloud)|169.45.118.108|:443... connected.\nHTTP request sent, awaiting response... 200 OK\nLength: 3033 (3.0K) [text/csv]\nSaving to: \u2018spacex_launch_dash.csv.1\u2019\n\nspacex_launch_dash. 100%[===================>]   2.96K  --.-KB/s    in 0s      \n\n2021-11-03 17:17:37 (44.4 MB/s) - \u2018spacex_launch_dash.csv.1\u2019 saved [3033/3033]\n\n--2021-11-03 17:17:38--  https://cf-courses-data.s3.us.cloud-object-storage.appdomain.cloud/IBM-DS0321EN-SkillsNetwork/labs/module_3/spacex_dash_app.py\nResolving cf-courses-data.s3.us.cloud-object-storage.appdomain.cloud (cf-courses-data.s3.us.cloud-object-storage.appdomain.cloud)... 169.45.118.108\nConnecting to cf-courses-data.s3.us.cloud-object-storage.appdomain.cloud (cf-courses-data.s3.us.cloud-object-storage.appdomain.cloud)|169.45.118.108|:443... connected.\nHTTP request sent, awaiting response... 200 OK\nLength: 2110 (2.1K) [text/x-python]\nSaving to: \u2018spacex_dash_app.py.1\u2019\n\nspacex_dash_app.py. 100%[===================>]   2.06K  --.-KB/s    in 0.003s  \n\n2021-11-03 17:17:38 (812 KB/s) - \u2018spacex_dash_app.py.1\u2019 saved [2110/2110]\n\n"
                }
            ],
            "source": "! pip3 install pandas dash\n! wget \"https://cf-courses-data.s3.us.cloud-object-storage.appdomain.cloud/IBM-DS0321EN-SkillsNetwork/datasets/spacex_launch_dash.csv\"\n! wget \"https://cf-courses-data.s3.us.cloud-object-storage.appdomain.cloud/IBM-DS0321EN-SkillsNetwork/labs/module_3/spacex_dash_app.py\""
        },
        {
            "cell_type": "code",
            "execution_count": 10,
            "metadata": {},
            "outputs": [
                {
                    "name": "stdout",
                    "output_type": "stream",
                    "text": "/home/wsuser/work\r\n"
                }
            ],
            "source": "! pwd"
        },
        {
            "cell_type": "code",
            "execution_count": 11,
            "metadata": {
                "scrolled": true
            },
            "outputs": [
                {
                    "name": "stdout",
                    "output_type": "stream",
                    "text": "spacex_dash_app.py:4: UserWarning: \nThe dash_html_components package is deprecated. Please replace\n`import dash_html_components as html` with `from dash import html`\n  import dash_html_components as html\nspacex_dash_app.py:5: UserWarning: \nThe dash_core_components package is deprecated. Please replace\n`import dash_core_components as dcc` with `from dash import dcc`\n  import dash_core_components as dcc\nDash is running on http://127.0.0.1:8050/\n\n * Serving Flask app 'spacex_dash_app' (lazy loading)\n * Environment: production\n\u001b[31m   WARNING: This is a development server. Do not use it in a production deployment.\u001b[0m\n\u001b[2m   Use a production WSGI server instead.\u001b[0m\n * Debug mode: off\nTraceback (most recent call last):\n  File \"spacex_dash_app.py\", line 48, in <module>\n    app.run_server()\n  File \"/opt/conda/envs/Python-3.8-main/lib/python3.8/site-packages/dash/dash.py\", line 2033, in run_server\n    self.server.run(host=host, port=port, debug=debug, **flask_run_options)\n  File \"/opt/conda/envs/Python-3.8-main/lib/python3.8/site-packages/flask/app.py\", line 920, in run\n    run_simple(t.cast(str, host), port, self, **options)\n  File \"/opt/conda/envs/Python-3.8-main/lib/python3.8/site-packages/werkzeug/serving.py\", line 1010, in run_simple\n    inner()\n  File \"/opt/conda/envs/Python-3.8-main/lib/python3.8/site-packages/werkzeug/serving.py\", line 950, in inner\n    srv = make_server(\n  File \"/opt/conda/envs/Python-3.8-main/lib/python3.8/site-packages/werkzeug/serving.py\", line 782, in make_server\n    return ThreadedWSGIServer(\n  File \"/opt/conda/envs/Python-3.8-main/lib/python3.8/site-packages/werkzeug/serving.py\", line 676, in __init__\n    real_sock = socket.fromfd(fd, self.address_family, socket.SOCK_STREAM)\n  File \"/opt/conda/envs/Python-3.8-main/lib/python3.8/socket.py\", line 543, in fromfd\n    nfd = dup(fd)\nOSError: [Errno 9] Bad file descriptor\n"
                }
            ],
            "source": "! python3 spacex_dash_app.py"
        },
        {
            "cell_type": "code",
            "execution_count": 8,
            "metadata": {},
            "outputs": [
                {
                    "name": "stdout",
                    "output_type": "stream",
                    "text": "Dash is running on http://0.0.0.0:8052/\n\nDash is running on http://0.0.0.0:8052/\n\nDash is running on http://0.0.0.0:8052/\n\nDash is running on http://0.0.0.0:8052/\n\n * Serving Flask app '__main__' (lazy loading)\n * Environment: production\n\u001b[31m   WARNING: This is a development server. Do not use it in a production deployment.\u001b[0m\n\u001b[2m   Use a production WSGI server instead.\u001b[0m\n * Debug mode: on\n"
                },
                {
                    "ename": "SystemExit",
                    "evalue": "1",
                    "output_type": "error",
                    "traceback": [
                        "An exception has occurred, use %tb to see the full traceback.\n",
                        "\u001b[0;31mSystemExit\u001b[0m\u001b[0;31m:\u001b[0m 1\n"
                    ]
                }
            ],
            "source": "import dash\nimport dash_html_components as html\n\napp=dash.Dash(__name__)\napp.layout=html.H1('This is test')\n\nif __name__=='__main__':\n    app.run_server(debug=True, port=8052, host='0.0.0.0')"
        },
        {
            "cell_type": "code",
            "execution_count": null,
            "metadata": {},
            "outputs": [],
            "source": ""
        }
    ],
    "metadata": {
        "kernelspec": {
            "display_name": "Python 3.8",
            "language": "python",
            "name": "python3"
        },
        "language_info": {
            "codemirror_mode": {
                "name": "ipython",
                "version": 3
            },
            "file_extension": ".py",
            "mimetype": "text/x-python",
            "name": "python",
            "nbconvert_exporter": "python",
            "pygments_lexer": "ipython3",
            "version": "3.8.11"
        }
    },
    "nbformat": 4,
    "nbformat_minor": 1
}